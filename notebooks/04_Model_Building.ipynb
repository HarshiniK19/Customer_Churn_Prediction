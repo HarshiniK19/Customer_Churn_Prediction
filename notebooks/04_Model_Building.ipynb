{
 "cells": [
  {
   "cell_type": "markdown",
   "id": "939f52f0",
   "metadata": {},
   "source": [
    "## Model Building"
   ]
  },
  {
   "cell_type": "markdown",
   "id": "2a940458",
   "metadata": {},
   "source": [
    "### Objective\n",
    "The goal of this step is to build predictive models to classify which bank customers are likely to churn.  \n",
    "We will train three models:\n",
    "\n",
    "1. **Logistic Regression** – a simple, interpretable baseline.  \n",
    "2. **Random Forest** – ensemble method capturing non-linear relationships.  \n",
    "3. **XGBoost** – gradient boosting algorithm, often highly accurate on tabular data. "
   ]
  },
  {
   "cell_type": "code",
   "execution_count": 9,
   "id": "8025e69b",
   "metadata": {},
   "outputs": [],
   "source": [
    "import pandas as pd\n",
    "from sklearn.linear_model import LogisticRegression\n",
    "from sklearn.ensemble import RandomForestClassifier\n",
    "from xgboost import XGBClassifier\n",
    "import joblib"
   ]
  },
  {
   "cell_type": "code",
   "execution_count": 6,
   "id": "6dfc055e",
   "metadata": {},
   "outputs": [],
   "source": [
    "# Load prepared training data\n",
    "X_train = pd.read_csv('../data/X_train_prepared.csv')\n",
    "y_train = pd.read_csv('../data/y_train.csv')"
   ]
  },
  {
   "cell_type": "code",
   "execution_count": 7,
   "id": "b2ba240f",
   "metadata": {},
   "outputs": [],
   "source": [
    "\n",
    "# Define models\n",
    "models = {\n",
    "    \"Logistic Regression\": LogisticRegression(max_iter=1000, random_state=42),\n",
    "    \"Random Forest\": RandomForestClassifier(n_estimators=100, random_state=42),\n",
    "    \"XGBoost\": XGBClassifier(use_label_encoder=False, eval_metric='logloss', random_state=42)\n",
    "}"
   ]
  },
  {
   "cell_type": "code",
   "execution_count": 8,
   "id": "0d35b2dd",
   "metadata": {},
   "outputs": [
    {
     "name": "stdout",
     "output_type": "stream",
     "text": [
      "---- Baseline Model Training ----\n",
      "Logistic Regression trained successfully.\n"
     ]
    },
    {
     "name": "stderr",
     "output_type": "stream",
     "text": [
      "c:\\Users\\ADMIN\\AppData\\Local\\Programs\\Python\\Python312\\Lib\\site-packages\\sklearn\\utils\\validation.py:1406: DataConversionWarning: A column-vector y was passed when a 1d array was expected. Please change the shape of y to (n_samples, ), for example using ravel().\n",
      "  y = column_or_1d(y, warn=True)\n",
      "c:\\Users\\ADMIN\\AppData\\Local\\Programs\\Python\\Python312\\Lib\\site-packages\\sklearn\\base.py:1363: DataConversionWarning: A column-vector y was passed when a 1d array was expected. Please change the shape of y to (n_samples,), for example using ravel().\n",
      "  return fit_method(estimator, *args, **kwargs)\n"
     ]
    },
    {
     "name": "stdout",
     "output_type": "stream",
     "text": [
      "Random Forest trained successfully.\n",
      "XGBoost trained successfully.\n"
     ]
    },
    {
     "name": "stderr",
     "output_type": "stream",
     "text": [
      "c:\\Users\\ADMIN\\AppData\\Local\\Programs\\Python\\Python312\\Lib\\site-packages\\xgboost\\training.py:183: UserWarning: [21:02:33] WARNING: C:\\actions-runner\\_work\\xgboost\\xgboost\\src\\learner.cc:738: \n",
      "Parameters: { \"use_label_encoder\" } are not used.\n",
      "\n",
      "  bst.update(dtrain, iteration=i, fobj=obj)\n"
     ]
    }
   ],
   "source": [
    "# Train baseline models\n",
    "print(\"---- Baseline Model Training ----\")\n",
    "for name, model in models.items():\n",
    "    model.fit(X_train, y_train)\n",
    "    print(f\"{name} trained successfully.\")\n"
   ]
  },
  {
   "cell_type": "markdown",
   "id": "8d34b77e",
   "metadata": {},
   "source": [
    "We train three models:\n",
    "\n",
    "- **Logistic Regression:** Simple and interpretable baseline model.  \n",
    "- **Random Forest:** Ensemble method, captures non-linear relationships and feature interactions.  \n",
    "- **XGBoost:** Gradient boosting algorithm, highly efficient and often best-performing on tabular data.\n"
   ]
  },
  {
   "cell_type": "code",
   "execution_count": 15,
   "id": "91d50073",
   "metadata": {},
   "outputs": [
    {
     "name": "stdout",
     "output_type": "stream",
     "text": [
      "All models saved in models/ folder\n"
     ]
    }
   ],
   "source": [
    "# Save models\n",
    "joblib.dump(models[\"Logistic Regression\"], \"../models/logistic_regression.pkl\")\n",
    "joblib.dump(models[\"Random Forest\"], \"../models/random_forest.pkl\")\n",
    "joblib.dump(models[\"XGBoost\"], \"../models/xgboost.pkl\")\n",
    "\n",
    "print(\"All models saved in models/ folder\")"
   ]
  }
 ],
 "metadata": {
  "kernelspec": {
   "display_name": "Python 3",
   "language": "python",
   "name": "python3"
  },
  "language_info": {
   "codemirror_mode": {
    "name": "ipython",
    "version": 3
   },
   "file_extension": ".py",
   "mimetype": "text/x-python",
   "name": "python",
   "nbconvert_exporter": "python",
   "pygments_lexer": "ipython3",
   "version": "3.12.1"
  }
 },
 "nbformat": 4,
 "nbformat_minor": 5
}
