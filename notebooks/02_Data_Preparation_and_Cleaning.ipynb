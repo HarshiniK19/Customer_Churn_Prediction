{
 "cells": [
  {
   "cell_type": "markdown",
   "id": "15c4a06b",
   "metadata": {},
   "source": [
    "## 02_Data_Preparation & Cleaning\n",
    "\n",
    "### Objectives\n",
    "- Prepare data for modeling\n",
    "- Handle categorical variables\n",
    "- Scale numeric features\n",
    "- Split data into training and test sets"
   ]
  },
  {
   "cell_type": "code",
   "execution_count": 1,
   "id": "9db69bda",
   "metadata": {},
   "outputs": [],
   "source": [
    "# Import libraries\n",
    "import pandas as pd\n",
    "from sklearn.model_selection import train_test_split\n",
    "from sklearn.preprocessing import StandardScaler"
   ]
  },
  {
   "cell_type": "code",
   "execution_count": 2,
   "id": "88eb1ce9",
   "metadata": {},
   "outputs": [
    {
     "name": "stdout",
     "output_type": "stream",
     "text": [
      "Dataset shape: (10000, 18)\n"
     ]
    },
    {
     "data": {
      "text/html": [
       "<div>\n",
       "<style scoped>\n",
       "    .dataframe tbody tr th:only-of-type {\n",
       "        vertical-align: middle;\n",
       "    }\n",
       "\n",
       "    .dataframe tbody tr th {\n",
       "        vertical-align: top;\n",
       "    }\n",
       "\n",
       "    .dataframe thead th {\n",
       "        text-align: right;\n",
       "    }\n",
       "</style>\n",
       "<table border=\"1\" class=\"dataframe\">\n",
       "  <thead>\n",
       "    <tr style=\"text-align: right;\">\n",
       "      <th></th>\n",
       "      <th>RowNumber</th>\n",
       "      <th>CustomerId</th>\n",
       "      <th>Surname</th>\n",
       "      <th>CreditScore</th>\n",
       "      <th>Geography</th>\n",
       "      <th>Gender</th>\n",
       "      <th>Age</th>\n",
       "      <th>Tenure</th>\n",
       "      <th>Balance</th>\n",
       "      <th>NumOfProducts</th>\n",
       "      <th>HasCrCard</th>\n",
       "      <th>IsActiveMember</th>\n",
       "      <th>EstimatedSalary</th>\n",
       "      <th>Exited</th>\n",
       "      <th>Complain</th>\n",
       "      <th>Satisfaction Score</th>\n",
       "      <th>Card Type</th>\n",
       "      <th>Point Earned</th>\n",
       "    </tr>\n",
       "  </thead>\n",
       "  <tbody>\n",
       "    <tr>\n",
       "      <th>0</th>\n",
       "      <td>1</td>\n",
       "      <td>15634602</td>\n",
       "      <td>Hargrave</td>\n",
       "      <td>619</td>\n",
       "      <td>France</td>\n",
       "      <td>Female</td>\n",
       "      <td>42</td>\n",
       "      <td>2</td>\n",
       "      <td>0.00</td>\n",
       "      <td>1</td>\n",
       "      <td>1</td>\n",
       "      <td>1</td>\n",
       "      <td>101348.88</td>\n",
       "      <td>1</td>\n",
       "      <td>1</td>\n",
       "      <td>2</td>\n",
       "      <td>DIAMOND</td>\n",
       "      <td>464</td>\n",
       "    </tr>\n",
       "    <tr>\n",
       "      <th>1</th>\n",
       "      <td>2</td>\n",
       "      <td>15647311</td>\n",
       "      <td>Hill</td>\n",
       "      <td>608</td>\n",
       "      <td>Spain</td>\n",
       "      <td>Female</td>\n",
       "      <td>41</td>\n",
       "      <td>1</td>\n",
       "      <td>83807.86</td>\n",
       "      <td>1</td>\n",
       "      <td>0</td>\n",
       "      <td>1</td>\n",
       "      <td>112542.58</td>\n",
       "      <td>0</td>\n",
       "      <td>1</td>\n",
       "      <td>3</td>\n",
       "      <td>DIAMOND</td>\n",
       "      <td>456</td>\n",
       "    </tr>\n",
       "    <tr>\n",
       "      <th>2</th>\n",
       "      <td>3</td>\n",
       "      <td>15619304</td>\n",
       "      <td>Onio</td>\n",
       "      <td>502</td>\n",
       "      <td>France</td>\n",
       "      <td>Female</td>\n",
       "      <td>42</td>\n",
       "      <td>8</td>\n",
       "      <td>159660.80</td>\n",
       "      <td>3</td>\n",
       "      <td>1</td>\n",
       "      <td>0</td>\n",
       "      <td>113931.57</td>\n",
       "      <td>1</td>\n",
       "      <td>1</td>\n",
       "      <td>3</td>\n",
       "      <td>DIAMOND</td>\n",
       "      <td>377</td>\n",
       "    </tr>\n",
       "    <tr>\n",
       "      <th>3</th>\n",
       "      <td>4</td>\n",
       "      <td>15701354</td>\n",
       "      <td>Boni</td>\n",
       "      <td>699</td>\n",
       "      <td>France</td>\n",
       "      <td>Female</td>\n",
       "      <td>39</td>\n",
       "      <td>1</td>\n",
       "      <td>0.00</td>\n",
       "      <td>2</td>\n",
       "      <td>0</td>\n",
       "      <td>0</td>\n",
       "      <td>93826.63</td>\n",
       "      <td>0</td>\n",
       "      <td>0</td>\n",
       "      <td>5</td>\n",
       "      <td>GOLD</td>\n",
       "      <td>350</td>\n",
       "    </tr>\n",
       "    <tr>\n",
       "      <th>4</th>\n",
       "      <td>5</td>\n",
       "      <td>15737888</td>\n",
       "      <td>Mitchell</td>\n",
       "      <td>850</td>\n",
       "      <td>Spain</td>\n",
       "      <td>Female</td>\n",
       "      <td>43</td>\n",
       "      <td>2</td>\n",
       "      <td>125510.82</td>\n",
       "      <td>1</td>\n",
       "      <td>1</td>\n",
       "      <td>1</td>\n",
       "      <td>79084.10</td>\n",
       "      <td>0</td>\n",
       "      <td>0</td>\n",
       "      <td>5</td>\n",
       "      <td>GOLD</td>\n",
       "      <td>425</td>\n",
       "    </tr>\n",
       "  </tbody>\n",
       "</table>\n",
       "</div>"
      ],
      "text/plain": [
       "   RowNumber  CustomerId   Surname  CreditScore Geography  Gender  Age  \\\n",
       "0          1    15634602  Hargrave          619    France  Female   42   \n",
       "1          2    15647311      Hill          608     Spain  Female   41   \n",
       "2          3    15619304      Onio          502    France  Female   42   \n",
       "3          4    15701354      Boni          699    France  Female   39   \n",
       "4          5    15737888  Mitchell          850     Spain  Female   43   \n",
       "\n",
       "   Tenure    Balance  NumOfProducts  HasCrCard  IsActiveMember  \\\n",
       "0       2       0.00              1          1               1   \n",
       "1       1   83807.86              1          0               1   \n",
       "2       8  159660.80              3          1               0   \n",
       "3       1       0.00              2          0               0   \n",
       "4       2  125510.82              1          1               1   \n",
       "\n",
       "   EstimatedSalary  Exited  Complain  Satisfaction Score Card Type  \\\n",
       "0        101348.88       1         1                   2   DIAMOND   \n",
       "1        112542.58       0         1                   3   DIAMOND   \n",
       "2        113931.57       1         1                   3   DIAMOND   \n",
       "3         93826.63       0         0                   5      GOLD   \n",
       "4         79084.10       0         0                   5      GOLD   \n",
       "\n",
       "   Point Earned  \n",
       "0           464  \n",
       "1           456  \n",
       "2           377  \n",
       "3           350  \n",
       "4           425  "
      ]
     },
     "execution_count": 2,
     "metadata": {},
     "output_type": "execute_result"
    }
   ],
   "source": [
    "# Load dataset\n",
    "Customer_Churn = pd.read_csv(r\"D:\\Bank_Churn_Project\\data\\Customer-Churn-Records.csv\")\n",
    "print(\"Dataset shape:\", Customer_Churn.shape)\n",
    "Customer_Churn.head()"
   ]
  },
  {
   "cell_type": "markdown",
   "id": "c62a3c0c",
   "metadata": {},
   "source": [
    "## Drop Irrelevant Columns\n",
    "- Remove columns like `RowNumber`, `CustomerId` and `Surname` which are not predictive"
   ]
  },
  {
   "cell_type": "code",
   "execution_count": 3,
   "id": "73493e58",
   "metadata": {},
   "outputs": [
    {
     "name": "stdout",
     "output_type": "stream",
     "text": [
      "Index(['CreditScore', 'Geography', 'Gender', 'Age', 'Tenure', 'Balance',\n",
      "       'NumOfProducts', 'HasCrCard', 'IsActiveMember', 'EstimatedSalary',\n",
      "       'Exited', 'Complain', 'Satisfaction Score', 'Card Type',\n",
      "       'Point Earned'],\n",
      "      dtype='object')\n"
     ]
    }
   ],
   "source": [
    "# Correctly drop columns without creating NoneType\n",
    "Customer_Churn.drop(['RowNumber', 'CustomerId', 'Surname'], axis=1, inplace=True)\n",
    "\n",
    "# Verify columns\n",
    "print(Customer_Churn.columns)"
   ]
  },
  {
   "cell_type": "markdown",
   "id": "bad9a981",
   "metadata": {},
   "source": [
    "### Keep original numeric copy"
   ]
  },
  {
   "cell_type": "code",
   "execution_count": 4,
   "id": "0a3a4a17",
   "metadata": {},
   "outputs": [],
   "source": [
    "numeric_cols = ['CreditScore', 'Age', 'Tenure', 'Balance', 'NumOfProducts', 'EstimatedSalary',\n",
    "                'Complain', 'Satisfaction Score', 'Point Earned']\n",
    "Customer_Churn_original = Customer_Churn[numeric_cols].copy()\n",
    "Customer_Churn_original.to_csv('../data/Customer_Churn_original_numeric.csv', index=False)"
   ]
  },
  {
   "cell_type": "markdown",
   "id": "3443a759",
   "metadata": {},
   "source": [
    "## Encode Categorical Variables\n",
    "- `Gender`, `Geography` and `Card Type` are categorical  \n",
    "- Use OneHotEncoding (drop_first=True) to avoid dummy variable trap"
   ]
  },
  {
   "cell_type": "code",
   "execution_count": 5,
   "id": "259a08a3",
   "metadata": {},
   "outputs": [
    {
     "name": "stdout",
     "output_type": "stream",
     "text": [
      "Columns after encoding:\n",
      " Index(['CreditScore', 'Age', 'Tenure', 'Balance', 'NumOfProducts', 'HasCrCard',\n",
      "       'IsActiveMember', 'EstimatedSalary', 'Exited', 'Complain',\n",
      "       'Satisfaction Score', 'Point Earned', 'Gender_Male',\n",
      "       'Geography_Germany', 'Geography_Spain', 'Card Type_GOLD',\n",
      "       'Card Type_PLATINUM', 'Card Type_SILVER'],\n",
      "      dtype='object')\n"
     ]
    }
   ],
   "source": [
    " # OneHotEncoding\n",
    "\n",
    "categorical_cols = ['Gender', 'Geography', 'Card Type']\n",
    "Customer_Churn = pd.get_dummies(Customer_Churn, columns=categorical_cols, drop_first=True)\n",
    "print(\"Columns after encoding:\\n\", Customer_Churn.columns)"
   ]
  },
  {
   "cell_type": "markdown",
   "id": "0fc54630",
   "metadata": {},
   "source": [
    "## Separate Features and Target\n",
    "- Target: `Exited`  \n",
    "- Features: all remaining columns"
   ]
  },
  {
   "cell_type": "code",
   "execution_count": 6,
   "id": "0b17e814",
   "metadata": {},
   "outputs": [],
   "source": [
    "X = Customer_Churn.drop('Exited', axis=1)\n",
    "y = Customer_Churn['Exited']"
   ]
  },
  {
   "cell_type": "markdown",
   "id": "30974aaf",
   "metadata": {},
   "source": [
    "## Train-Test Split\n",
    "- 80% training, 20% test\n",
    "- Random state for reproducibility"
   ]
  },
  {
   "cell_type": "code",
   "execution_count": 7,
   "id": "7428c9a1",
   "metadata": {},
   "outputs": [],
   "source": [
    "X_train, X_test, y_train, y_test = train_test_split(\n",
    "    X, y, test_size=0.2, random_state=42)"
   ]
  },
  {
   "cell_type": "markdown",
   "id": "42079082",
   "metadata": {},
   "source": [
    "## Scale Numeric Features\n",
    "- Numeric columns: `CreditScore`, `Age`, `Tenure`, `Balance`, `NumOfProducts`, `EstimatedSalary`, `Satisfaction Score`, `Point Earned`\n",
    "- Scaling improves model performance"
   ]
  },
  {
   "cell_type": "code",
   "execution_count": 8,
   "id": "fb6e8590",
   "metadata": {},
   "outputs": [],
   "source": [
    "num_cols = ['CreditScore', 'Age', 'Tenure', 'Balance', 'NumOfProducts', \n",
    "            'EstimatedSalary', 'Satisfaction Score', 'Point Earned']\n",
    "scaler = StandardScaler()\n",
    "X_train[num_cols] = scaler.fit_transform(X_train[num_cols])\n",
    "X_test[num_cols] = scaler.transform(X_test[num_cols])\n"
   ]
  },
  {
   "cell_type": "markdown",
   "id": "b618bfa7",
   "metadata": {},
   "source": [
    "## Save Prepared Data for Step 3\n",
    "\n",
    "- X_train, X_test: scaled and encoded features  \n",
    "- y_train, y_test: target labels  \n",
    "- This ensures Step 3 can load prepared data directly"
   ]
  },
  {
   "cell_type": "code",
   "execution_count": 9,
   "id": "18adc7eb",
   "metadata": {},
   "outputs": [
    {
     "name": "stdout",
     "output_type": "stream",
     "text": [
      "Prepared data saved successfully.\n"
     ]
    }
   ],
   "source": [
    "# Save prepared data\n",
    "X_train.to_csv('../data/X_train_prepared.csv', index=False)\n",
    "X_test.to_csv('../data/X_test_prepared.csv', index=False)\n",
    "y_train.to_csv('../data/y_train.csv', index=False)\n",
    "y_test.to_csv('../data/y_test.csv', index=False)\n",
    "\n",
    "print(\"Prepared data saved successfully.\")"
   ]
  }
 ],
 "metadata": {
  "kernelspec": {
   "display_name": "Python 3",
   "language": "python",
   "name": "python3"
  },
  "language_info": {
   "codemirror_mode": {
    "name": "ipython",
    "version": 3
   },
   "file_extension": ".py",
   "mimetype": "text/x-python",
   "name": "python",
   "nbconvert_exporter": "python",
   "pygments_lexer": "ipython3",
   "version": "3.12.1"
  }
 },
 "nbformat": 4,
 "nbformat_minor": 5
}
