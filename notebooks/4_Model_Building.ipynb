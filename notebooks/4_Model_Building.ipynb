{
 "cells": [
  {
   "cell_type": "markdown",
   "id": "939f52f0",
   "metadata": {},
   "source": [
    "## Step 4 — Model Building"
   ]
  },
  {
   "cell_type": "markdown",
   "id": "2a940458",
   "metadata": {},
   "source": [
    "### Objective\n",
    "Train and evaluate multiple machine learning models to predict customer churn.  \n",
    "Models included:\n",
    "1. Logistic Regression\n",
    "2. Random Forest\n",
    "3. XGBoost"
   ]
  },
  {
   "cell_type": "code",
   "execution_count": 9,
   "id": "8025e69b",
   "metadata": {},
   "outputs": [],
   "source": [
    "import pandas as pd\n",
    "import numpy as np\n",
    "import matplotlib.pyplot as plt\n",
    "import seaborn as sns\n",
    "from sklearn.model_selection import train_test_split, cross_val_score\n",
    "from sklearn.linear_model import LogisticRegression\n",
    "from sklearn.ensemble import RandomForestClassifier\n",
    "from xgboost import XGBClassifier\n",
    "from sklearn.metrics import classification_report, confusion_matrix, accuracy_score, roc_auc_score"
   ]
  },
  {
   "cell_type": "code",
   "execution_count": 3,
   "id": "98a62ccb",
   "metadata": {},
   "outputs": [
    {
     "name": "stdout",
     "output_type": "stream",
     "text": [
      "Dataset shape: (10000, 18)\n"
     ]
    },
    {
     "data": {
      "text/html": [
       "<div>\n",
       "<style scoped>\n",
       "    .dataframe tbody tr th:only-of-type {\n",
       "        vertical-align: middle;\n",
       "    }\n",
       "\n",
       "    .dataframe tbody tr th {\n",
       "        vertical-align: top;\n",
       "    }\n",
       "\n",
       "    .dataframe thead th {\n",
       "        text-align: right;\n",
       "    }\n",
       "</style>\n",
       "<table border=\"1\" class=\"dataframe\">\n",
       "  <thead>\n",
       "    <tr style=\"text-align: right;\">\n",
       "      <th></th>\n",
       "      <th>CreditScore</th>\n",
       "      <th>Gender</th>\n",
       "      <th>Age</th>\n",
       "      <th>Tenure</th>\n",
       "      <th>Balance</th>\n",
       "      <th>NumOfProducts</th>\n",
       "      <th>HasCrCard</th>\n",
       "      <th>IsActiveMember</th>\n",
       "      <th>EstimatedSalary</th>\n",
       "      <th>Complain</th>\n",
       "      <th>Satisfaction Score</th>\n",
       "      <th>Point Earned</th>\n",
       "      <th>Geography_Germany</th>\n",
       "      <th>Geography_Spain</th>\n",
       "      <th>Card Type_GOLD</th>\n",
       "      <th>Card Type_PLATINUM</th>\n",
       "      <th>Card Type_SILVER</th>\n",
       "      <th>Exited</th>\n",
       "    </tr>\n",
       "  </thead>\n",
       "  <tbody>\n",
       "    <tr>\n",
       "      <th>0</th>\n",
       "      <td>-0.326221</td>\n",
       "      <td>0</td>\n",
       "      <td>0.293517</td>\n",
       "      <td>-1.041760</td>\n",
       "      <td>-1.225848</td>\n",
       "      <td>-0.911583</td>\n",
       "      <td>1</td>\n",
       "      <td>1</td>\n",
       "      <td>0.021886</td>\n",
       "      <td>1</td>\n",
       "      <td>-0.721130</td>\n",
       "      <td>-0.630839</td>\n",
       "      <td>False</td>\n",
       "      <td>False</td>\n",
       "      <td>False</td>\n",
       "      <td>False</td>\n",
       "      <td>False</td>\n",
       "      <td>1</td>\n",
       "    </tr>\n",
       "    <tr>\n",
       "      <th>1</th>\n",
       "      <td>-0.440036</td>\n",
       "      <td>0</td>\n",
       "      <td>0.198164</td>\n",
       "      <td>-1.387538</td>\n",
       "      <td>0.117350</td>\n",
       "      <td>-0.911583</td>\n",
       "      <td>0</td>\n",
       "      <td>1</td>\n",
       "      <td>0.216534</td>\n",
       "      <td>1</td>\n",
       "      <td>-0.009816</td>\n",
       "      <td>-0.666251</td>\n",
       "      <td>False</td>\n",
       "      <td>True</td>\n",
       "      <td>False</td>\n",
       "      <td>False</td>\n",
       "      <td>False</td>\n",
       "      <td>0</td>\n",
       "    </tr>\n",
       "    <tr>\n",
       "      <th>2</th>\n",
       "      <td>-1.536794</td>\n",
       "      <td>0</td>\n",
       "      <td>0.293517</td>\n",
       "      <td>1.032908</td>\n",
       "      <td>1.333053</td>\n",
       "      <td>2.527057</td>\n",
       "      <td>1</td>\n",
       "      <td>0</td>\n",
       "      <td>0.240687</td>\n",
       "      <td>1</td>\n",
       "      <td>-0.009816</td>\n",
       "      <td>-1.015942</td>\n",
       "      <td>False</td>\n",
       "      <td>False</td>\n",
       "      <td>False</td>\n",
       "      <td>False</td>\n",
       "      <td>False</td>\n",
       "      <td>1</td>\n",
       "    </tr>\n",
       "    <tr>\n",
       "      <th>3</th>\n",
       "      <td>0.501521</td>\n",
       "      <td>0</td>\n",
       "      <td>0.007457</td>\n",
       "      <td>-1.387538</td>\n",
       "      <td>-1.225848</td>\n",
       "      <td>0.807737</td>\n",
       "      <td>0</td>\n",
       "      <td>0</td>\n",
       "      <td>-0.108918</td>\n",
       "      <td>0</td>\n",
       "      <td>1.412812</td>\n",
       "      <td>-1.135457</td>\n",
       "      <td>False</td>\n",
       "      <td>False</td>\n",
       "      <td>True</td>\n",
       "      <td>False</td>\n",
       "      <td>False</td>\n",
       "      <td>0</td>\n",
       "    </tr>\n",
       "    <tr>\n",
       "      <th>4</th>\n",
       "      <td>2.063884</td>\n",
       "      <td>0</td>\n",
       "      <td>0.388871</td>\n",
       "      <td>-1.041760</td>\n",
       "      <td>0.785728</td>\n",
       "      <td>-0.911583</td>\n",
       "      <td>1</td>\n",
       "      <td>1</td>\n",
       "      <td>-0.365276</td>\n",
       "      <td>0</td>\n",
       "      <td>1.412812</td>\n",
       "      <td>-0.803472</td>\n",
       "      <td>False</td>\n",
       "      <td>True</td>\n",
       "      <td>True</td>\n",
       "      <td>False</td>\n",
       "      <td>False</td>\n",
       "      <td>0</td>\n",
       "    </tr>\n",
       "  </tbody>\n",
       "</table>\n",
       "</div>"
      ],
      "text/plain": [
       "   CreditScore  Gender       Age    Tenure   Balance  NumOfProducts  \\\n",
       "0    -0.326221       0  0.293517 -1.041760 -1.225848      -0.911583   \n",
       "1    -0.440036       0  0.198164 -1.387538  0.117350      -0.911583   \n",
       "2    -1.536794       0  0.293517  1.032908  1.333053       2.527057   \n",
       "3     0.501521       0  0.007457 -1.387538 -1.225848       0.807737   \n",
       "4     2.063884       0  0.388871 -1.041760  0.785728      -0.911583   \n",
       "\n",
       "   HasCrCard  IsActiveMember  EstimatedSalary  Complain  Satisfaction Score  \\\n",
       "0          1               1         0.021886         1           -0.721130   \n",
       "1          0               1         0.216534         1           -0.009816   \n",
       "2          1               0         0.240687         1           -0.009816   \n",
       "3          0               0        -0.108918         0            1.412812   \n",
       "4          1               1        -0.365276         0            1.412812   \n",
       "\n",
       "   Point Earned  Geography_Germany  Geography_Spain  Card Type_GOLD  \\\n",
       "0     -0.630839              False            False           False   \n",
       "1     -0.666251              False             True           False   \n",
       "2     -1.015942              False            False           False   \n",
       "3     -1.135457              False            False            True   \n",
       "4     -0.803472              False             True            True   \n",
       "\n",
       "   Card Type_PLATINUM  Card Type_SILVER  Exited  \n",
       "0               False             False       1  \n",
       "1               False             False       0  \n",
       "2               False             False       1  \n",
       "3               False             False       0  \n",
       "4               False             False       0  "
      ]
     },
     "execution_count": 3,
     "metadata": {},
     "output_type": "execute_result"
    }
   ],
   "source": [
    "# Load processed data from Step 3\n",
    "Customer_Churn = pd.read_csv(r\"D:\\Bank_Churn_Project\\data\\processed_data.csv\")\n",
    "print(\"Dataset shape:\", Customer_Churn.shape)\n",
    "Customer_Churn.head()"
   ]
  },
  {
   "cell_type": "code",
   "execution_count": 5,
   "id": "538de529",
   "metadata": {},
   "outputs": [],
   "source": [
    "# Features & Target\n",
    "X = Customer_Churn.drop('Exited', axis=1)\n",
    "y = Customer_Churn['Exited']"
   ]
  },
  {
   "cell_type": "markdown",
   "id": "45766dc2",
   "metadata": {},
   "source": [
    "Insight:\n",
    "Features (X) are scaled and encoded, ready for ML models. Target (y) is binary (0=Stayed, 1=Exited).\n"
   ]
  },
  {
   "cell_type": "code",
   "execution_count": 7,
   "id": "5465de9f",
   "metadata": {},
   "outputs": [],
   "source": [
    "# Train-test split (Step 4 independent)\n",
    "X_train, X_test, y_train, y_test = train_test_split(\n",
    "    X, y, test_size=0.2, random_state=42, stratify=y\n",
    ")"
   ]
  },
  {
   "cell_type": "markdown",
   "id": "a9126e93",
   "metadata": {},
   "source": [
    "## Model 1 — Logistic Regression"
   ]
  },
  {
   "cell_type": "code",
   "execution_count": 10,
   "id": "647ede51",
   "metadata": {},
   "outputs": [
    {
     "name": "stdout",
     "output_type": "stream",
     "text": [
      "Logistic Regression Accuracy: 0.9985\n",
      "Confusion Matrix:\n",
      " [[1591    1]\n",
      " [   2  406]]\n",
      "Classification Report:\n",
      "               precision    recall  f1-score   support\n",
      "\n",
      "           0       1.00      1.00      1.00      1592\n",
      "           1       1.00      1.00      1.00       408\n",
      "\n",
      "    accuracy                           1.00      2000\n",
      "   macro avg       1.00      1.00      1.00      2000\n",
      "weighted avg       1.00      1.00      1.00      2000\n",
      "\n",
      "ROC AUC: 0.9992456153315598\n"
     ]
    }
   ],
   "source": [
    "# Train Logistic Regression\n",
    "lr = LogisticRegression()\n",
    "lr.fit(X_train, y_train)\n",
    "\n",
    "# Predictions\n",
    "y_pred_lr = lr.predict(X_test)\n",
    "\n",
    "# Evaluation\n",
    "print(\"Logistic Regression Accuracy:\", accuracy_score(y_test, y_pred_lr))\n",
    "print(\"Confusion Matrix:\\n\", confusion_matrix(y_test, y_pred_lr))\n",
    "print(\"Classification Report:\\n\", classification_report(y_test, y_pred_lr))\n",
    "print(\"ROC AUC:\", roc_auc_score(y_test, lr.predict_proba(X_test)[:,1]))"
   ]
  },
  {
   "cell_type": "markdown",
   "id": "fc3afccd",
   "metadata": {},
   "source": [
    "Insight:\n",
    "- Logistic Regression is simple and interpretable.\n",
    "- Good baseline to compare tree-based models.\n"
   ]
  },
  {
   "cell_type": "markdown",
   "id": "b488e181",
   "metadata": {},
   "source": [
    "### Model 2 — Random Forest"
   ]
  },
  {
   "cell_type": "code",
   "execution_count": 11,
   "id": "1d3933ab",
   "metadata": {},
   "outputs": [
    {
     "name": "stdout",
     "output_type": "stream",
     "text": [
      "Random Forest Accuracy: 0.9985\n",
      "Confusion Matrix:\n",
      " [[1591    1]\n",
      " [   2  406]]\n",
      "Classification Report:\n",
      "               precision    recall  f1-score   support\n",
      "\n",
      "           0       1.00      1.00      1.00      1592\n",
      "           1       1.00      1.00      1.00       408\n",
      "\n",
      "    accuracy                           1.00      2000\n",
      "   macro avg       1.00      1.00      1.00      2000\n",
      "weighted avg       1.00      1.00      1.00      2000\n",
      "\n",
      "ROC AUC: 0.9981563762439649\n"
     ]
    }
   ],
   "source": [
    "# Train Random Forest\n",
    "rf = RandomForestClassifier(n_estimators=100, random_state=42)\n",
    "rf.fit(X_train, y_train)\n",
    "\n",
    "# Predictions\n",
    "y_pred_rf = rf.predict(X_test)\n",
    "\n",
    "# Evaluation\n",
    "print(\"Random Forest Accuracy:\", accuracy_score(y_test, y_pred_rf))\n",
    "print(\"Confusion Matrix:\\n\", confusion_matrix(y_test, y_pred_rf))\n",
    "print(\"Classification Report:\\n\", classification_report(y_test, y_pred_rf))\n",
    "print(\"ROC AUC:\", roc_auc_score(y_test, rf.predict_proba(X_test)[:,1]))"
   ]
  },
  {
   "cell_type": "markdown",
   "id": "1df1c2be",
   "metadata": {},
   "source": [
    "Insight:\n",
    "- Random Forest handles non-linear patterns better than Logistic Regression.\n",
    "- Feature importance can help understand which variables drive churn."
   ]
  },
  {
   "cell_type": "code",
   "execution_count": 13,
   "id": "2021f1eb",
   "metadata": {},
   "outputs": [
    {
     "data": {
      "image/png": "[encoded data removed]",
      "text/plain": [
       "<Figure size 1000x600 with 1 Axes>"
      ]
     },
     "metadata": {},
     "output_type": "display_data"
    }
   ],
   "source": [
    "feature_imp = pd.Series(rf.feature_importances_, index=X.columns).sort_values(ascending=False)\n",
    "plt.figure(figsize=(10,6))\n",
    "sns.barplot(x=feature_imp, y=feature_imp.index)\n",
    "plt.title(\"Random Forest Feature Importance\")\n",
    "plt.show()\n"
   ]
  },
  {
   "cell_type": "markdown",
   "id": "18ffe018",
   "metadata": {},
   "source": [
    "### Model 3 — XGBoost"
   ]
  },
  {
   "cell_type": "code",
   "execution_count": 14,
   "id": "00b13b94",
   "metadata": {},
   "outputs": [
    {
     "name": "stdout",
     "output_type": "stream",
     "text": [
      "XGBoost Accuracy: 0.9985\n",
      "Confusion Matrix:\n",
      " [[1591    1]\n",
      " [   2  406]]\n",
      "Classification Report:\n",
      "               precision    recall  f1-score   support\n",
      "\n",
      "           0       1.00      1.00      1.00      1592\n",
      "           1       1.00      1.00      1.00       408\n",
      "\n",
      "    accuracy                           1.00      2000\n",
      "   macro avg       1.00      1.00      1.00      2000\n",
      "weighted avg       1.00      1.00      1.00      2000\n",
      "\n",
      "ROC AUC: 0.9971548921075968\n"
     ]
    },
    {
     "name": "stderr",
     "output_type": "stream",
     "text": [
      "c:\\Users\\ADMIN\\AppData\\Local\\Programs\\Python\\Python312\\Lib\\site-packages\\xgboost\\training.py:183: UserWarning: [21:51:35] WARNING: C:\\actions-runner\\_work\\xgboost\\xgboost\\src\\learner.cc:738: \n",
      "Parameters: { \"use_label_encoder\" } are not used.\n",
      "\n",
      "  bst.update(dtrain, iteration=i, fobj=obj)\n"
     ]
    }
   ],
   "source": [
    "# Train XGBoost\n",
    "xgb = XGBClassifier(use_label_encoder=False, eval_metric='logloss', random_state=42)\n",
    "xgb.fit(X_train, y_train)\n",
    "\n",
    "# Predictions\n",
    "y_pred_xgb = xgb.predict(X_test)\n",
    "\n",
    "# Evaluation\n",
    "print(\"XGBoost Accuracy:\", accuracy_score(y_test, y_pred_xgb))\n",
    "print(\"Confusion Matrix:\\n\", confusion_matrix(y_test, y_pred_xgb))\n",
    "print(\"Classification Report:\\n\", classification_report(y_test, y_pred_xgb))\n",
    "print(\"ROC AUC:\", roc_auc_score(y_test, xgb.predict_proba(X_test)[:,1]))"
   ]
  },
  {
   "cell_type": "markdown",
   "id": "14254879",
   "metadata": {},
   "source": [
    "Insight:\n",
    "- XGBoost often gives better accuracy for imbalanced datasets.\n",
    "- Evaluates complex patterns in the data.\n"
   ]
  },
  {
   "cell_type": "markdown",
   "id": "42372a44",
   "metadata": {},
   "source": [
    "### Save Models"
   ]
  },
  {
   "cell_type": "code",
   "execution_count": 15,
   "id": "e5ad7fda",
   "metadata": {},
   "outputs": [
    {
     "name": "stdout",
     "output_type": "stream",
     "text": [
      "All models saved in models/ folder\n"
     ]
    }
   ],
   "source": [
    "import joblib\n",
    "\n",
    "joblib.dump(lr, \"../models/logistic_regression.pkl\")\n",
    "joblib.dump(rf, \"../models/random_forest.pkl\")\n",
    "joblib.dump(xgb, \"../models/xgboost.pkl\")\n",
    "\n",
    "print(\"All models saved in models/ folder\")"
   ]
  },
  {
   "cell_type": "markdown",
   "id": "4da08682",
   "metadata": {},
   "source": [
    "Insight:\n",
    "- Models are saved for future predictions without retraining.\n"
   ]
  },
  {
   "cell_type": "markdown",
   "id": "5651ade3",
   "metadata": {},
   "source": [
    "# Step 4 Summary\n",
    "\n",
    "- Trained 3 models: Logistic Regression, Random Forest, XGBoost\n",
    "- Evaluated using Accuracy, Confusion Matrix, ROC AUC\n",
    "- Random Forest and XGBoost show better performance than baseline Logistic Regression\n",
    "- Feature importance provides insights into churn drivers\n",
    "- Models saved for deployment or future use\n"
   ]
  },
  {
   "cell_type": "code",
   "execution_count": null,
   "id": "91d50073",
   "metadata": {},
   "outputs": [],
   "source": []
  }
 ],
 "metadata": {
  "kernelspec": {
   "display_name": "Python 3",
   "language": "python",
   "name": "python3"
  },
  "language_info": {
   "codemirror_mode": {
    "name": "ipython",
    "version": 3
   },
   "file_extension": ".py",
   "mimetype": "text/x-python",
   "name": "python",
   "nbconvert_exporter": "python",
   "pygments_lexer": "ipython3",
   "version": "3.12.1"
  }
 },
 "nbformat": 4,
 "nbformat_minor": 5
}
