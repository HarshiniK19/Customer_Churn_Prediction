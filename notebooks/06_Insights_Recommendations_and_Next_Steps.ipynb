{
 "cells": [
  {
   "cell_type": "markdown",
   "id": "debadedb",
   "metadata": {},
   "source": [
    "### Objective\n",
    "- Validate the final model’s reliability\n",
    "- Analyze feature importance\n",
    "- Identify high-risk customers\n",
    "- Provide actionable business recommendations"
   ]
  },
  {
   "cell_type": "code",
   "execution_count": 16,
   "id": "3bd61467",
   "metadata": {},
   "outputs": [],
   "source": [
    "# Load necessary libraries\n",
    "import pandas as pd\n",
    "import numpy as np\n",
    "import joblib\n",
    "import matplotlib.pyplot as plt\n",
    "import seaborn as sns\n",
    "from sklearn.model_selection import cross_val_score\n",
    "from sklearn.metrics import accuracy_score, f1_score, roc_auc_score, confusion_matrix, ConfusionMatrixDisplay"
   ]
  },
  {
   "cell_type": "code",
   "execution_count": 9,
   "id": "b866d058",
   "metadata": {},
   "outputs": [],
   "source": [
    "# Load cleaned dataset\n",
    "X_train = pd.read_csv(r\"D:\\Bank_Churn_Project\\data\\X_train_prepared.csv\")\n",
    "y_train = pd.read_csv(r\"D:\\Bank_Churn_Project\\data\\y_train.csv\")\n",
    "X_test = pd.read_csv(r\"D:\\Bank_Churn_Project\\data\\X_test_prepared.csv\")\n",
    "y_test = pd.read_csv(r\"D:\\Bank_Churn_Project\\data\\y_test.csv\")"
   ]
  },
  {
   "cell_type": "code",
   "execution_count": 4,
   "id": "59efc3a6",
   "metadata": {},
   "outputs": [],
   "source": [
    "# Load final model (Logistic Regression chosen)\n",
    "final_model = joblib.load(\"../models/logistic_regression.pkl\")"
   ]
  },
  {
   "cell_type": "code",
   "execution_count": 10,
   "id": "7c8d3a4e",
   "metadata": {},
   "outputs": [],
   "source": [
    "# Overfitting / Validation Check\n",
    "\n",
    "y_train_pred = final_model.predict(X_train)\n",
    "y_train_prob = final_model.predict_proba(X_train)[:,1]\n",
    "\n",
    "y_pred = final_model.predict(X_test)\n",
    "y_prob = final_model.predict_proba(X_test)[:,1]"
   ]
  },
  {
   "cell_type": "code",
   "execution_count": 12,
   "id": "426d022f",
   "metadata": {},
   "outputs": [
    {
     "name": "stdout",
     "output_type": "stream",
     "text": [
      "Train Accuracy: 0.9985\n",
      "Train F1-Score: 0.9964\n",
      "Train ROC-AUC: 0.9996\n"
     ]
    }
   ],
   "source": [
    "# Train Metrics\n",
    "y_train_pred = final_model.predict(X_train)\n",
    "y_train_prob = final_model.predict_proba(X_train)[:,1]\n",
    "\n",
    "train_acc = accuracy_score(y_train, y_train_pred)\n",
    "train_f1 = f1_score(y_train, y_train_pred)\n",
    "train_auc = roc_auc_score(y_train, y_train_prob)\n",
    "\n",
    "print(f\"Train Accuracy: {train_acc:.4f}\")\n",
    "print(f\"Train F1-Score: {train_f1:.4f}\")\n",
    "print(f\"Train ROC-AUC: {train_auc:.4f}\")"
   ]
  },
  {
   "cell_type": "code",
   "execution_count": 13,
   "id": "93b495bb",
   "metadata": {},
   "outputs": [
    {
     "name": "stdout",
     "output_type": "stream",
     "text": [
      "Test Accuracy: 0.9990\n",
      "Test F1-Score: 0.9975\n",
      "Test ROC-AUC: 0.9995\n"
     ]
    }
   ],
   "source": [
    "# Test Metrics\n",
    "y_test_pred = final_model.predict(X_test)\n",
    "y_test_prob = final_model.predict_proba(X_test)[:,1]\n",
    "\n",
    "test_acc = accuracy_score(y_test, y_test_pred)\n",
    "test_f1 = f1_score(y_test, y_test_pred)\n",
    "test_auc = roc_auc_score(y_test, y_test_prob)\n",
    "\n",
    "print(f\"Test Accuracy: {test_acc:.4f}\")\n",
    "print(f\"Test F1-Score: {test_f1:.4f}\")\n",
    "print(f\"Test ROC-AUC: {test_auc:.4f}\")"
   ]
  },
  {
   "cell_type": "code",
   "execution_count": 14,
   "id": "e0b89e4e",
   "metadata": {},
   "outputs": [
    {
     "data": {
      "image/png": "[encoded data removed]",
      "text/plain": [
       "<Figure size 640x480 with 2 Axes>"
      ]
     },
     "metadata": {},
     "output_type": "display_data"
    }
   ],
   "source": [
    "# Confusion Matrix\n",
    "cm = confusion_matrix(y_test, y_pred)\n",
    "disp = ConfusionMatrixDisplay(cm)\n",
    "disp.plot()\n",
    "plt.title(\"Final Model Confusion Matrix\")\n",
    "plt.show()"
   ]
  },
  {
   "cell_type": "code",
   "execution_count": 17,
   "id": "a2398df9",
   "metadata": {},
   "outputs": [
    {
     "name": "stdout",
     "output_type": "stream",
     "text": [
      "Cross-Validation F1 Scores for each fold: [0.9969697  0.99546142 0.99847793 0.99393939 0.99696049]\n",
      "Mean CV F1-Score: 0.9964\n",
      "Train F1-Score: 0.9964, Test F1-Score: 0.9975\n"
     ]
    },
    {
     "name": "stderr",
     "output_type": "stream",
     "text": [
      "c:\\Users\\ADMIN\\AppData\\Local\\Programs\\Python\\Python312\\Lib\\site-packages\\sklearn\\utils\\validation.py:1406: DataConversionWarning: A column-vector y was passed when a 1d array was expected. Please change the shape of y to (n_samples, ), for example using ravel().\n",
      "  y = column_or_1d(y, warn=True)\n",
      "c:\\Users\\ADMIN\\AppData\\Local\\Programs\\Python\\Python312\\Lib\\site-packages\\sklearn\\utils\\validation.py:1406: DataConversionWarning: A column-vector y was passed when a 1d array was expected. Please change the shape of y to (n_samples, ), for example using ravel().\n",
      "  y = column_or_1d(y, warn=True)\n",
      "c:\\Users\\ADMIN\\AppData\\Local\\Programs\\Python\\Python312\\Lib\\site-packages\\sklearn\\utils\\validation.py:1406: DataConversionWarning: A column-vector y was passed when a 1d array was expected. Please change the shape of y to (n_samples, ), for example using ravel().\n",
      "  y = column_or_1d(y, warn=True)\n",
      "c:\\Users\\ADMIN\\AppData\\Local\\Programs\\Python\\Python312\\Lib\\site-packages\\sklearn\\utils\\validation.py:1406: DataConversionWarning: A column-vector y was passed when a 1d array was expected. Please change the shape of y to (n_samples, ), for example using ravel().\n",
      "  y = column_or_1d(y, warn=True)\n",
      "c:\\Users\\ADMIN\\AppData\\Local\\Programs\\Python\\Python312\\Lib\\site-packages\\sklearn\\utils\\validation.py:1406: DataConversionWarning: A column-vector y was passed when a 1d array was expected. Please change the shape of y to (n_samples, ), for example using ravel().\n",
      "  y = column_or_1d(y, warn=True)\n"
     ]
    }
   ],
   "source": [
    "# cross-validation\n",
    "cv_scores = cross_val_score(final_model, X_train, y_train, cv=5, scoring='f1')\n",
    "\n",
    "\n",
    "print(\"Cross-Validation F1 Scores for each fold:\", cv_scores)\n",
    "print(f\"Mean CV F1-Score: {cv_scores.mean():.4f}\")\n",
    "print(f\"Train F1-Score: {train_f1:.4f}, Test F1-Score: {test_f1:.4f}\")"
   ]
  },
  {
   "cell_type": "markdown",
   "id": "26a1813f",
   "metadata": {},
   "source": [
    "### Overfitting / Validation Check\n",
    "- Train F1: 0.9964, Test F1: 0.9975  \n",
    "- Train ROC-AUC: 0.9964, Test ROC-AUC: 0.9975  \n",
    "- Cross-validation shows stable F1 across folds "
   ]
  },
  {
   "cell_type": "code",
   "execution_count": 18,
   "id": "697dea00",
   "metadata": {},
   "outputs": [
    {
     "data": {
      "image/png": "[encoded data removed]",
      "text/plain": [
       "<Figure size 1000x600 with 1 Axes>"
      ]
     },
     "metadata": {},
     "output_type": "display_data"
    }
   ],
   "source": [
    "# Feature Importance (for Logistic Regression)\n",
    "feature_importance = pd.DataFrame({\n",
    "    'Feature': X_test.columns,\n",
    "    'Coefficient': final_model.coef_[0]\n",
    "}).sort_values(by='Coefficient', key=abs, ascending=False)\n",
    "\n",
    "plt.figure(figsize=(10,6))\n",
    "sns.barplot(x='Coefficient', y='Feature', data=feature_importance.head(10))\n",
    "plt.title(\"Top 10 Features Influencing Churn\")\n",
    "plt.show()\n"
   ]
  },
  {
   "cell_type": "markdown",
   "id": "a80add43",
   "metadata": {},
   "source": [
    "\n",
    "### Feature Importance\n",
    "- Top features driving churn are plotted above  \n",
    "- These features can guide **targeted retention campaigns**"
   ]
  },
  {
   "cell_type": "code",
   "execution_count": 20,
   "id": "29f60517",
   "metadata": {},
   "outputs": [
    {
     "data": {
      "text/html": [
       "<div>\n",
       "<style scoped>\n",
       "    .dataframe tbody tr th:only-of-type {\n",
       "        vertical-align: middle;\n",
       "    }\n",
       "\n",
       "    .dataframe tbody tr th {\n",
       "        vertical-align: top;\n",
       "    }\n",
       "\n",
       "    .dataframe thead th {\n",
       "        text-align: right;\n",
       "    }\n",
       "</style>\n",
       "<table border=\"1\" class=\"dataframe\">\n",
       "  <thead>\n",
       "    <tr style=\"text-align: right;\">\n",
       "      <th></th>\n",
       "      <th>CreditScore</th>\n",
       "      <th>Age</th>\n",
       "      <th>Tenure</th>\n",
       "      <th>Balance</th>\n",
       "      <th>NumOfProducts</th>\n",
       "      <th>HasCrCard</th>\n",
       "      <th>IsActiveMember</th>\n",
       "      <th>EstimatedSalary</th>\n",
       "      <th>Complain</th>\n",
       "      <th>Satisfaction Score</th>\n",
       "      <th>Point Earned</th>\n",
       "      <th>Gender_Male</th>\n",
       "      <th>Geography_Germany</th>\n",
       "      <th>Geography_Spain</th>\n",
       "      <th>Card Type_GOLD</th>\n",
       "      <th>Card Type_PLATINUM</th>\n",
       "      <th>Card Type_SILVER</th>\n",
       "      <th>Predicted_Prob</th>\n",
       "      <th>Predicted_Churn</th>\n",
       "    </tr>\n",
       "  </thead>\n",
       "  <tbody>\n",
       "    <tr>\n",
       "      <th>1450</th>\n",
       "      <td>-2.030378</td>\n",
       "      <td>2.291460</td>\n",
       "      <td>-1.389442</td>\n",
       "      <td>1.428956</td>\n",
       "      <td>0.808436</td>\n",
       "      <td>0</td>\n",
       "      <td>0</td>\n",
       "      <td>0.701148</td>\n",
       "      <td>1</td>\n",
       "      <td>-1.432186</td>\n",
       "      <td>-1.172618</td>\n",
       "      <td>False</td>\n",
       "      <td>False</td>\n",
       "      <td>False</td>\n",
       "      <td>False</td>\n",
       "      <td>False</td>\n",
       "      <td>True</td>\n",
       "      <td>0.998687</td>\n",
       "      <td>1</td>\n",
       "    </tr>\n",
       "    <tr>\n",
       "      <th>1232</th>\n",
       "      <td>2.058448</td>\n",
       "      <td>3.052039</td>\n",
       "      <td>1.733777</td>\n",
       "      <td>-0.103975</td>\n",
       "      <td>-0.916688</td>\n",
       "      <td>1</td>\n",
       "      <td>0</td>\n",
       "      <td>-0.044125</td>\n",
       "      <td>1</td>\n",
       "      <td>-0.720010</td>\n",
       "      <td>0.796809</td>\n",
       "      <td>True</td>\n",
       "      <td>False</td>\n",
       "      <td>True</td>\n",
       "      <td>False</td>\n",
       "      <td>False</td>\n",
       "      <td>True</td>\n",
       "      <td>0.998431</td>\n",
       "      <td>1</td>\n",
       "    </tr>\n",
       "    <tr>\n",
       "      <th>679</th>\n",
       "      <td>1.228229</td>\n",
       "      <td>2.956967</td>\n",
       "      <td>1.386753</td>\n",
       "      <td>0.554569</td>\n",
       "      <td>-0.916688</td>\n",
       "      <td>1</td>\n",
       "      <td>0</td>\n",
       "      <td>-1.352066</td>\n",
       "      <td>1</td>\n",
       "      <td>-0.007834</td>\n",
       "      <td>-0.621356</td>\n",
       "      <td>False</td>\n",
       "      <td>False</td>\n",
       "      <td>False</td>\n",
       "      <td>False</td>\n",
       "      <td>True</td>\n",
       "      <td>False</td>\n",
       "      <td>0.998402</td>\n",
       "      <td>1</td>\n",
       "    </tr>\n",
       "    <tr>\n",
       "      <th>1540</th>\n",
       "      <td>-1.459603</td>\n",
       "      <td>2.576677</td>\n",
       "      <td>-0.348369</td>\n",
       "      <td>-1.218471</td>\n",
       "      <td>-0.916688</td>\n",
       "      <td>1</td>\n",
       "      <td>0</td>\n",
       "      <td>-1.717598</td>\n",
       "      <td>1</td>\n",
       "      <td>1.416518</td>\n",
       "      <td>-0.256812</td>\n",
       "      <td>False</td>\n",
       "      <td>False</td>\n",
       "      <td>True</td>\n",
       "      <td>False</td>\n",
       "      <td>False</td>\n",
       "      <td>True</td>\n",
       "      <td>0.998398</td>\n",
       "      <td>1</td>\n",
       "    </tr>\n",
       "    <tr>\n",
       "      <th>1149</th>\n",
       "      <td>-0.411452</td>\n",
       "      <td>2.291460</td>\n",
       "      <td>-1.042418</td>\n",
       "      <td>0.889043</td>\n",
       "      <td>0.808436</td>\n",
       "      <td>1</td>\n",
       "      <td>0</td>\n",
       "      <td>0.376913</td>\n",
       "      <td>1</td>\n",
       "      <td>0.704342</td>\n",
       "      <td>0.156634</td>\n",
       "      <td>False</td>\n",
       "      <td>False</td>\n",
       "      <td>True</td>\n",
       "      <td>False</td>\n",
       "      <td>False</td>\n",
       "      <td>True</td>\n",
       "      <td>0.998145</td>\n",
       "      <td>1</td>\n",
       "    </tr>\n",
       "    <tr>\n",
       "      <th>1924</th>\n",
       "      <td>1.518806</td>\n",
       "      <td>2.006242</td>\n",
       "      <td>0.345680</td>\n",
       "      <td>0.333893</td>\n",
       "      <td>-0.916688</td>\n",
       "      <td>1</td>\n",
       "      <td>0</td>\n",
       "      <td>-1.191402</td>\n",
       "      <td>1</td>\n",
       "      <td>-1.432186</td>\n",
       "      <td>0.427819</td>\n",
       "      <td>False</td>\n",
       "      <td>False</td>\n",
       "      <td>False</td>\n",
       "      <td>False</td>\n",
       "      <td>False</td>\n",
       "      <td>True</td>\n",
       "      <td>0.998048</td>\n",
       "      <td>1</td>\n",
       "    </tr>\n",
       "    <tr>\n",
       "      <th>1313</th>\n",
       "      <td>1.103696</td>\n",
       "      <td>2.101315</td>\n",
       "      <td>1.039728</td>\n",
       "      <td>0.789263</td>\n",
       "      <td>-0.916688</td>\n",
       "      <td>1</td>\n",
       "      <td>0</td>\n",
       "      <td>1.421409</td>\n",
       "      <td>1</td>\n",
       "      <td>-1.432186</td>\n",
       "      <td>-0.305715</td>\n",
       "      <td>False</td>\n",
       "      <td>True</td>\n",
       "      <td>False</td>\n",
       "      <td>False</td>\n",
       "      <td>False</td>\n",
       "      <td>False</td>\n",
       "      <td>0.998014</td>\n",
       "      <td>1</td>\n",
       "    </tr>\n",
       "    <tr>\n",
       "      <th>1861</th>\n",
       "      <td>2.058448</td>\n",
       "      <td>2.956967</td>\n",
       "      <td>-1.389442</td>\n",
       "      <td>0.333756</td>\n",
       "      <td>2.533560</td>\n",
       "      <td>1</td>\n",
       "      <td>0</td>\n",
       "      <td>-0.663272</td>\n",
       "      <td>1</td>\n",
       "      <td>1.416518</td>\n",
       "      <td>-1.074814</td>\n",
       "      <td>False</td>\n",
       "      <td>True</td>\n",
       "      <td>False</td>\n",
       "      <td>True</td>\n",
       "      <td>False</td>\n",
       "      <td>False</td>\n",
       "      <td>0.997782</td>\n",
       "      <td>1</td>\n",
       "    </tr>\n",
       "    <tr>\n",
       "      <th>1194</th>\n",
       "      <td>0.263100</td>\n",
       "      <td>1.625953</td>\n",
       "      <td>-1.736467</td>\n",
       "      <td>0.702263</td>\n",
       "      <td>-0.916688</td>\n",
       "      <td>0</td>\n",
       "      <td>0</td>\n",
       "      <td>1.006594</td>\n",
       "      <td>1</td>\n",
       "      <td>-0.720010</td>\n",
       "      <td>-0.376845</td>\n",
       "      <td>False</td>\n",
       "      <td>False</td>\n",
       "      <td>False</td>\n",
       "      <td>False</td>\n",
       "      <td>False</td>\n",
       "      <td>True</td>\n",
       "      <td>0.997767</td>\n",
       "      <td>1</td>\n",
       "    </tr>\n",
       "    <tr>\n",
       "      <th>767</th>\n",
       "      <td>0.491410</td>\n",
       "      <td>2.386532</td>\n",
       "      <td>1.386753</td>\n",
       "      <td>0.592525</td>\n",
       "      <td>-0.916688</td>\n",
       "      <td>1</td>\n",
       "      <td>0</td>\n",
       "      <td>-1.259673</td>\n",
       "      <td>1</td>\n",
       "      <td>-0.720010</td>\n",
       "      <td>0.801255</td>\n",
       "      <td>True</td>\n",
       "      <td>False</td>\n",
       "      <td>False</td>\n",
       "      <td>False</td>\n",
       "      <td>False</td>\n",
       "      <td>True</td>\n",
       "      <td>0.997712</td>\n",
       "      <td>1</td>\n",
       "    </tr>\n",
       "  </tbody>\n",
       "</table>\n",
       "</div>"
      ],
      "text/plain": [
       "      CreditScore       Age    Tenure   Balance  NumOfProducts  HasCrCard  \\\n",
       "1450    -2.030378  2.291460 -1.389442  1.428956       0.808436          0   \n",
       "1232     2.058448  3.052039  1.733777 -0.103975      -0.916688          1   \n",
       "679      1.228229  2.956967  1.386753  0.554569      -0.916688          1   \n",
       "1540    -1.459603  2.576677 -0.348369 -1.218471      -0.916688          1   \n",
       "1149    -0.411452  2.291460 -1.042418  0.889043       0.808436          1   \n",
       "1924     1.518806  2.006242  0.345680  0.333893      -0.916688          1   \n",
       "1313     1.103696  2.101315  1.039728  0.789263      -0.916688          1   \n",
       "1861     2.058448  2.956967 -1.389442  0.333756       2.533560          1   \n",
       "1194     0.263100  1.625953 -1.736467  0.702263      -0.916688          0   \n",
       "767      0.491410  2.386532  1.386753  0.592525      -0.916688          1   \n",
       "\n",
       "      IsActiveMember  EstimatedSalary  Complain  Satisfaction Score  \\\n",
       "1450               0         0.701148         1           -1.432186   \n",
       "1232               0        -0.044125         1           -0.720010   \n",
       "679                0        -1.352066         1           -0.007834   \n",
       "1540               0        -1.717598         1            1.416518   \n",
       "1149               0         0.376913         1            0.704342   \n",
       "1924               0        -1.191402         1           -1.432186   \n",
       "1313               0         1.421409         1           -1.432186   \n",
       "1861               0        -0.663272         1            1.416518   \n",
       "1194               0         1.006594         1           -0.720010   \n",
       "767                0        -1.259673         1           -0.720010   \n",
       "\n",
       "      Point Earned  Gender_Male  Geography_Germany  Geography_Spain  \\\n",
       "1450     -1.172618        False              False            False   \n",
       "1232      0.796809         True              False             True   \n",
       "679      -0.621356        False              False            False   \n",
       "1540     -0.256812        False              False             True   \n",
       "1149      0.156634        False              False             True   \n",
       "1924      0.427819        False              False            False   \n",
       "1313     -0.305715        False               True            False   \n",
       "1861     -1.074814        False               True            False   \n",
       "1194     -0.376845        False              False            False   \n",
       "767       0.801255         True              False            False   \n",
       "\n",
       "      Card Type_GOLD  Card Type_PLATINUM  Card Type_SILVER  Predicted_Prob  \\\n",
       "1450           False               False              True        0.998687   \n",
       "1232           False               False              True        0.998431   \n",
       "679            False                True             False        0.998402   \n",
       "1540           False               False              True        0.998398   \n",
       "1149           False               False              True        0.998145   \n",
       "1924           False               False              True        0.998048   \n",
       "1313           False               False             False        0.998014   \n",
       "1861            True               False             False        0.997782   \n",
       "1194           False               False              True        0.997767   \n",
       "767            False               False              True        0.997712   \n",
       "\n",
       "      Predicted_Churn  \n",
       "1450                1  \n",
       "1232                1  \n",
       "679                 1  \n",
       "1540                1  \n",
       "1149                1  \n",
       "1924                1  \n",
       "1313                1  \n",
       "1861                1  \n",
       "1194                1  \n",
       "767                 1  "
      ]
     },
     "execution_count": 20,
     "metadata": {},
     "output_type": "execute_result"
    }
   ],
   "source": [
    "# Identify High-Risk Customers\n",
    "X_test['Predicted_Prob'] = y_test_prob\n",
    "X_test['Predicted_Churn'] = y_test_pred\n",
    "\n",
    "high_risk_customers = X_test.sort_values(by='Predicted_Prob', ascending=False).head(10)\n",
    "high_risk_customers\n",
    "\n",
    "# Save high-risk customers\n",
    "high_risk_customers.to_csv(\"../data/high_risk_customers.csv\", index=False)\n",
    "high_risk_customers\n"
   ]
  },
  {
   "cell_type": "markdown",
   "id": "8fac9d3d",
   "metadata": {},
   "source": [
    "### High-Risk Customers\n",
    "- Table and bar chart show **top 10 customers most likely to churn**  \n",
    "- These customers should be prioritized for **proactive retention strategies**"
   ]
  },
  {
   "cell_type": "markdown",
   "id": "27dfa7af",
   "metadata": {},
   "source": []
  },
  {
   "cell_type": "code",
   "execution_count": 23,
   "id": "d5347336",
   "metadata": {},
   "outputs": [
    {
     "data": {
      "image/png": "[encoded data removed]",
      "text/plain": [
       "<Figure size 1000x600 with 1 Axes>"
      ]
     },
     "metadata": {},
     "output_type": "display_data"
    }
   ],
   "source": [
    "# Bar chart of high-risk customers\n",
    "plt.figure(figsize=(10,6))\n",
    "sns.barplot(\n",
    "    x='Predicted_Prob', \n",
    "    y=high_risk_customers.index,  # use 'CustomerId' if available\n",
    "    data=high_risk_customers,\n",
    "    color='red'\n",
    ")\n",
    "plt.xlabel(\"Predicted Churn Probability\")\n",
    "plt.ylabel(\"Customer Index / ID\")\n",
    "plt.title(\"Top 10 High-Risk Customers\")\n",
    "plt.xlim(0, 1)\n",
    "plt.show()"
   ]
  },
  {
   "cell_type": "markdown",
   "id": "417ab83e",
   "metadata": {},
   "source": [
    "### Recommendations\n",
    "1. Focus retention campaigns on **high-risk segments** identified by the model.  \n",
    "2. Improve services/features correlated with high churn (e.g., satisfaction, number of products).  \n",
    "3. Periodically retrain the model with **new customer data** to maintain performance."
   ]
  },
  {
   "cell_type": "markdown",
   "id": "0cc957c8",
   "metadata": {},
   "source": [
    "### Limitations & Future Work\n",
    "- Extremely high metrics may indicate the dataset is easy to predict; monitor performance on new data.  \n",
    "- Explore additional features or external data for better generalization.  \n",
    "- Consider deploying the model for **real-time churn scoring**.\n"
   ]
  },
  {
   "cell_type": "markdown",
   "id": "4abdba34",
   "metadata": {},
   "source": []
  }
 ],
 "metadata": {
  "kernelspec": {
   "display_name": "Python 3",
   "language": "python",
   "name": "python3"
  },
  "language_info": {
   "codemirror_mode": {
    "name": "ipython",
    "version": 3
   },
   "file_extension": ".py",
   "mimetype": "text/x-python",
   "name": "python",
   "nbconvert_exporter": "python",
   "pygments_lexer": "ipython3",
   "version": "3.12.1"
  }
 },
 "nbformat": 4,
 "nbformat_minor": 5
}
